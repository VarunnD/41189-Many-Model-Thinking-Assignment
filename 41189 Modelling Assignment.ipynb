{
 "cells": [
  {
   "cell_type": "markdown",
   "metadata": {
    "toc-hr-collapsed": false
   },
   "source": [
    "# **41189 Modelling Assignment — Team Emergence**\n",
    " \n",
    " ## Topic: Modelling the Growth of New Social Media Platform\n",
    " \n",
    " Group members:\n",
    " \n",
    " - Evan Hunter (13248721)\n",
    " - Benjamin Myint (13905916)\n",
    " - Christopher Wu (13250307)\n",
    " - Varun Devarkonda (13910183)\n",
    " - Alexander Coulson (13930793)\n"
   ]
  },
  {
   "cell_type": "markdown",
   "metadata": {
    "toc-hr-collapsed": true
   },
   "source": [
    "# Introduction"
   ]
  },
  {
   "cell_type": "markdown",
   "metadata": {},
   "source": [
    "## State the problem, why it is important/relevant to you and/or more broadly to society"
   ]
  },
  {
   "cell_type": "markdown",
   "metadata": {},
   "source": [
    "Social media platforms are growing at an alarming rate, and with the current global pandemic, most jobs and social interactions have been pushed onto an online environment, leading to a surgical increase in online user activity within the past couple of months. To combat this, it is fundamental to understand and identify key attributes that correlate to the growth of these social media platforms in order to support them better, especially during these times of need."
   ]
  },
  {
   "cell_type": "markdown",
   "metadata": {},
   "source": [
    "By supporting the overall growth of these social media platforms, it will allow them to grow and develop their businesses to an extent whereby their values and features will focus more on their target audience rather than running for monetary value, which ultimately brings individuals together through an online webspace. From a mental point of view, by conducting this investigation, it will further assist the mental health of society at a global scale, due to the significant effects of COVID-19 lockdown restrictions on physical interactions. Supporting the online ecosystem of major brands such as Facebook, Reddit, YouTube, or Instagram, will help compensate with advertising, estimating company growth, and support team sizes in order to positively impact individuals and society as a whole."
   ]
  },
  {
   "cell_type": "markdown",
   "metadata": {
    "toc-hr-collapsed": true
   },
   "source": [
    "# Context, background information, justification"
   ]
  },
  {
   "cell_type": "markdown",
   "metadata": {},
   "source": [
    "## Research and review literature, news, digital media, drivers and how the problem is being addressed by academia, industry, government, etc."
   ]
  },
  {
   "cell_type": "markdown",
   "metadata": {},
   "source": [
    "enter text here"
   ]
  },
  {
   "cell_type": "markdown",
   "metadata": {},
   "source": [
    "enter text here"
   ]
  },
  {
   "cell_type": "markdown",
   "metadata": {},
   "source": [
    "enter text here"
   ]
  },
  {
   "cell_type": "markdown",
   "metadata": {},
   "source": [
    "## Identify the system + stakeholders. For this, you will need to construct a “rich picture” that captures the essential elements."
   ]
  },
  {
   "cell_type": "markdown",
   "metadata": {},
   "source": [
    "https://imgur.com/5rgeRpV"
   ]
  },
  {
   "cell_type": "markdown",
   "metadata": {},
   "source": [
    "enter text here"
   ]
  },
  {
   "cell_type": "markdown",
   "metadata": {},
   "source": [
    "enter text here"
   ]
  },
  {
   "cell_type": "markdown",
   "metadata": {},
   "source": [
    "## Identify current models or prevailing frames that are being used to address the problem"
   ]
  },
  {
   "cell_type": "markdown",
   "metadata": {},
   "source": [
    "enter text here"
   ]
  },
  {
   "cell_type": "markdown",
   "metadata": {},
   "source": [
    "enter text here"
   ]
  },
  {
   "cell_type": "markdown",
   "metadata": {},
   "source": [
    "enter text here"
   ]
  },
  {
   "cell_type": "markdown",
   "metadata": {},
   "source": [
    "## Discuss how prevailing models/frames are preventing the problem from being fully addressed or solved"
   ]
  },
  {
   "cell_type": "markdown",
   "metadata": {},
   "source": [
    "enter text here"
   ]
  },
  {
   "cell_type": "markdown",
   "metadata": {},
   "source": [
    "enter text here"
   ]
  },
  {
   "cell_type": "markdown",
   "metadata": {},
   "source": [
    "enter text here"
   ]
  },
  {
   "cell_type": "markdown",
   "metadata": {
    "toc-hr-collapsed": true
   },
   "source": [
    "# Conceptual Models"
   ]
  },
  {
   "cell_type": "markdown",
   "metadata": {},
   "source": [
    "## Based on your self-study of the supermarket of models, explain the three models that you have chosen to look at the problem"
   ]
  },
  {
   "cell_type": "markdown",
   "metadata": {},
   "source": [
    "### System Dynamics"
   ]
  },
  {
   "cell_type": "markdown",
   "metadata": {},
   "source": [
    "enter text here"
   ]
  },
  {
   "cell_type": "markdown",
   "metadata": {},
   "source": [
    "### Networks"
   ]
  },
  {
   "cell_type": "markdown",
   "metadata": {},
   "source": [
    "enter text here"
   ]
  },
  {
   "cell_type": "markdown",
   "metadata": {},
   "source": [
    "### Replicator Dynamics"
   ]
  },
  {
   "cell_type": "markdown",
   "metadata": {},
   "source": [
    "Replicator dynamics, used in evolutionary game theory, is a model that looks at the growth rate of agents using a particular strategy. This model is made up of three key components:\n",
    "1.\tAgent Type (Strategy)\n",
    "2.\tPayoff\n",
    "3.\tPopulation Percentage\n",
    "\n",
    "The agent type refers to the different types of strategies implemented, the payoff is how successful a particular agent type (strategy) is and lastly the population percentage is the percentage of agents that follow a specific strategy in the overall population. \n",
    "\n",
    "The model considers two possible growth strategies for the agents, the first being that an agent is more likely to adopt a particular strategy based on the percentage population following that strategy and the second is the agent will adopt a strategy based on the successfulness of that strategy. This is used to balance out the evolutionary choice’s agents make to create a more realistic model. "
   ]
  },
  {
   "cell_type": "markdown",
   "metadata": {},
   "source": [
    "## Explain how each of the three models works (brief) and how it will be applied in your case."
   ]
  },
  {
   "cell_type": "markdown",
   "metadata": {},
   "source": [
    "### System Dynamics"
   ]
  },
  {
   "cell_type": "markdown",
   "metadata": {},
   "source": [
    "enter text here"
   ]
  },
  {
   "cell_type": "markdown",
   "metadata": {},
   "source": [
    "### Networks"
   ]
  },
  {
   "cell_type": "markdown",
   "metadata": {},
   "source": [
    "Network models work through the interconnection of nodes and edges either in a uniform or random fashion. Nodes being individuals and edges being the direct connection between the two. Network models help demonstrate how interconnected people are, how information will travel between them, how close these people are to each other and even how they come to meet or become connected."
   ]
  },
  {
   "cell_type": "markdown",
   "metadata": {},
   "source": [
    "### Replicator Dynamics"
   ]
  },
  {
   "cell_type": "markdown",
   "metadata": {},
   "source": [
    "Replicator dynamics uses agent strategies, their payoff/fitness, and their overall percentage population, to model the growth and decline of each strategy. This can be represented mathematically as the following differential equation:\n",
    "![equation]( https://i.imgur.com/VoRjGME.png) \n",
    "*Source: [Replicator Dynamics - Systems Innovation](https://www.youtube.com/watch?v=9li2IetcgXc)*\n",
    "\n",
    "For example, there are four strategies s1, s2, s3 and s4. s1 has a 40% overall population, s2 has 30%, s3 20% and s4 10%. The agents are more likely to adopt strategy s1 as time passes due to it having the highest overall population but this model also takes into the consideration the payoff/fitness of the strategy, so the chance that an agent will adopt the strategy is determined by the population * payoff.\n",
    "\n",
    "This will be useful for modelling how social media platforms grow as it will hopefully provide a realistic portrayal of how users decide to adopt new social media platforms. This can be done by assigning the strategy as either being on or off the platform, the payoff as the value in which each user will get from the platform (e.g. Communication to family/friends, sharing content) and the overall population as the amount of users versus the amount of potential users."
   ]
  },
  {
   "cell_type": "markdown",
   "metadata": {},
   "source": [
    "## Describe any data sources (real or hypothetical) that are needed to construct the three models. Use illustrative drawings and diagrams where possible."
   ]
  },
  {
   "cell_type": "markdown",
   "metadata": {},
   "source": [
    "### System Dynamics"
   ]
  },
  {
   "cell_type": "code",
   "execution_count": null,
   "metadata": {},
   "outputs": [],
   "source": []
  },
  {
   "cell_type": "markdown",
   "metadata": {},
   "source": [
    "### Networks"
   ]
  },
  {
   "cell_type": "markdown",
   "metadata": {},
   "source": [
    "There are very few data sources needed for the creation of network model as this model works off natural growth as nodes connecting to other nodes through real life connections, either friendships, family or work ties. Hence a suitable data source would be the average amount of connections per node (person) which would then assist the model in accurately predicting the growth pattern."
   ]
  },
  {
   "cell_type": "code",
   "execution_count": null,
   "metadata": {},
   "outputs": [],
   "source": []
  },
  {
   "cell_type": "markdown",
   "metadata": {},
   "source": [
    "### Replicator Dynamics"
   ]
  },
  {
   "cell_type": "markdown",
   "metadata": {},
   "source": [
    "Replicator dynamics needs two main data sources to make up the three key components. The first being the payoff/fitness value for each strategy and the second being the overall population breakdown of each strategy. We can assume for this topic there are two strategies, a user is apart of the platform or the user is not apart of the platform. Since the strategies are known, the two other key components still need to be assigned. The payoff/fitness can be viewed as the overall value a user will get from either being on or off the platform. This could be impacted by a variety of needs a user has, such as, being able to communicate with family and friends, the ability to share content or even privacy concerns. The overall population breakdown is also needed for this model to accurately represent the growth over time. This will be a breakdown of what percentage of users are following each strategy (on or off the platform). The overall population would be the potential userbase, as it provides a more accurate representation of the potential customers when compared to the world population since it excludes children without technology, people without access to the internet, etc.\n",
    "\n",
    "These data sources can be sourced via the following:\n",
    "-\tThe payoff data source can be acquired by completing user research into seeing what value users get from social media platforms. \n",
    "-\tThe population breakdown can be provided by the social media platform business as they would most likely have access to the number of users on their platform.\n"
   ]
  },
  {
   "cell_type": "markdown",
   "metadata": {},
   "source": [
    "# Implementation"
   ]
  },
  {
   "cell_type": "markdown",
   "metadata": {},
   "source": [
    "## Describe the mathematical and/or statistical implementation of your three models. This should be done using Python code."
   ]
  },
  {
   "cell_type": "code",
   "execution_count": null,
   "metadata": {},
   "outputs": [],
   "source": []
  },
  {
   "cell_type": "code",
   "execution_count": null,
   "metadata": {},
   "outputs": [],
   "source": []
  },
  {
   "cell_type": "code",
   "execution_count": null,
   "metadata": {},
   "outputs": [],
   "source": []
  },
  {
   "cell_type": "markdown",
   "metadata": {},
   "source": [
    "# Scenario analysis, sensitivity + uncertainty evaluation"
   ]
  },
  {
   "cell_type": "markdown",
   "metadata": {},
   "source": [
    "## Establish baseline parameter sets and or configuration for output scenarios"
   ]
  },
  {
   "cell_type": "code",
   "execution_count": null,
   "metadata": {},
   "outputs": [],
   "source": []
  },
  {
   "cell_type": "code",
   "execution_count": null,
   "metadata": {},
   "outputs": [],
   "source": []
  },
  {
   "cell_type": "code",
   "execution_count": null,
   "metadata": {},
   "outputs": [],
   "source": []
  },
  {
   "cell_type": "markdown",
   "metadata": {},
   "source": [
    "## Perform a basic sensitivity analysis, i.e., identify with parameters are most sensitive/insensitive for the outputs"
   ]
  },
  {
   "cell_type": "code",
   "execution_count": null,
   "metadata": {},
   "outputs": [],
   "source": []
  },
  {
   "cell_type": "code",
   "execution_count": null,
   "metadata": {},
   "outputs": [],
   "source": []
  },
  {
   "cell_type": "code",
   "execution_count": null,
   "metadata": {},
   "outputs": [],
   "source": []
  },
  {
   "cell_type": "markdown",
   "metadata": {},
   "source": [
    "# Proposed solutions"
   ]
  },
  {
   "cell_type": "markdown",
   "metadata": {},
   "source": [
    "## Discuss potential portfolio of solutions based on your previous analysis\n"
   ]
  },
  {
   "cell_type": "code",
   "execution_count": null,
   "metadata": {},
   "outputs": [],
   "source": []
  },
  {
   "cell_type": "code",
   "execution_count": null,
   "metadata": {},
   "outputs": [],
   "source": []
  },
  {
   "cell_type": "code",
   "execution_count": null,
   "metadata": {},
   "outputs": [],
   "source": []
  },
  {
   "cell_type": "markdown",
   "metadata": {},
   "source": [
    "# Reflection on group + individual approach to assignment"
   ]
  },
  {
   "cell_type": "markdown",
   "metadata": {},
   "source": [
    "## Each student should discuss their experiences about working on the project. The document should be no more than 1000 words per group member. It should discuss following key aspects:\n",
    "\n",
    "- Your contribution in the project\n",
    "- Other group members’ contributions\n",
    "- What positives do you take from this project? What did you learn from this project?\n",
    "- What challenges did you face in this project and how you overcame those?\n",
    "- If you are faced with dealing with a real-world problem and need to do some modelling, how would you determine which modelling approach to take. Justify your response."
   ]
  },
  {
   "cell_type": "markdown",
   "metadata": {},
   "source": [
    "### Group member 1 Reflection - Evan Hunter"
   ]
  },
  {
   "cell_type": "markdown",
   "metadata": {},
   "source": [
    "- Conceptual Models - Replicator Dynamics"
   ]
  },
  {
   "cell_type": "markdown",
   "metadata": {},
   "source": [
    "### Group member 2 Reflection - Benjamin Myint"
   ]
  },
  {
   "cell_type": "code",
   "execution_count": null,
   "metadata": {},
   "outputs": [],
   "source": []
  },
  {
   "cell_type": "markdown",
   "metadata": {},
   "source": [
    "### Group member 3 Reflection - Christopher Wu"
   ]
  },
  {
   "cell_type": "code",
   "execution_count": null,
   "metadata": {},
   "outputs": [],
   "source": []
  },
  {
   "cell_type": "markdown",
   "metadata": {},
   "source": [
    "### Group member 4 Reflection - Varun Devarkonda"
   ]
  },
  {
   "cell_type": "code",
   "execution_count": null,
   "metadata": {},
   "outputs": [],
   "source": []
  },
  {
   "cell_type": "markdown",
   "metadata": {},
   "source": [
    "### Group member 5 Reflection - Alexander Coulson"
   ]
  },
  {
   "cell_type": "code",
   "execution_count": null,
   "metadata": {},
   "outputs": [],
   "source": []
  }
 ],
 "metadata": {
  "kernelspec": {
   "display_name": "Python 3",
   "language": "python",
   "name": "python3"
  },
  "language_info": {
   "codemirror_mode": {
    "name": "ipython",
    "version": 3
   },
   "file_extension": ".py",
   "mimetype": "text/x-python",
   "name": "python",
   "nbconvert_exporter": "python",
   "pygments_lexer": "ipython3",
   "version": "3.8.3"
  },
  "toc-autonumbering": true
 },
 "nbformat": 4,
 "nbformat_minor": 4
}
